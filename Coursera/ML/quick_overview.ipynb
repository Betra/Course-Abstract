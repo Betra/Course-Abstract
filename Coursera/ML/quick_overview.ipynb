{
 "cells": [
  {
   "cell_type": "markdown",
   "metadata": {},
   "source": [
    "# Quick Python Review"
   ]
  },
  {
   "cell_type": "markdown",
   "metadata": {},
   "source": [
    "### Переменные"
   ]
  },
  {
   "cell_type": "markdown",
   "metadata": {},
   "source": [
    "Yo, it's been a while"
   ]
  },
  {
   "cell_type": "code",
   "execution_count": 22,
   "metadata": {},
   "outputs": [
    {
     "name": "stdout",
     "output_type": "stream",
     "text": [
      "Hello,  World\n",
      "Re: Regin\n",
      "TmokTmokTmok\n",
      "Vagin\n",
      "[5, 5, 3, 5, 4, 4, 3]\n"
     ]
    }
   ],
   "source": [
    "world = \"World\"\n",
    "print(\"Hello, \", world)\n",
    "\n",
    "# String formatting\n",
    "name = \"Regin\"\n",
    "print(\"Re: %s\" % name)\n",
    "\n",
    "# String Maths\n",
    "print(\"Tmok\" * 3)\n",
    "\n",
    "\n",
    "# Slices\n",
    "new_name = \"Va\" + name[2:]\n",
    "print(new_name)\n",
    "\n",
    "# Some str methods\n",
    "new_name.startswith(\"Re\")\n",
    "new_name.endswith(\"a\")\n",
    "new_name.split(\"g\")\n",
    "\n",
    "\n",
    "# Comprehension\n",
    "sentence = \"the quick brown fox jumps over the lazy dog\"\n",
    "words = sentence.split()\n",
    "word_lengths = [len(word) for word in words if word != \"the\"]\n",
    "print(word_lengths)"
   ]
  },
  {
   "cell_type": "markdown",
   "metadata": {},
   "source": [
    "### Типы: Числа"
   ]
  },
  {
   "cell_type": "code",
   "execution_count": 10,
   "metadata": {},
   "outputs": [
    {
     "name": "stdout",
     "output_type": "stream",
     "text": [
      "Hooray 7 7.0\n",
      "Maths a = 1.00\n"
     ]
    }
   ],
   "source": [
    "# Int\n",
    "int1 = 7\n",
    "\n",
    "# Float\n",
    "float1 = 7.0\n",
    "\n",
    "if int1 == float1:\n",
    "    print(\"Hooray\", int1,float1)\n",
    "\n",
    "# Maths\n",
    "a = (((12 + 4) / 2.0 * 5.0) ** 2) % 3.0\n",
    "print(\"Maths a = %.2f\" % float(a))"
   ]
  },
  {
   "cell_type": "markdown",
   "metadata": {},
   "source": [
    "### Типы: Список"
   ]
  },
  {
   "cell_type": "code",
   "execution_count": 19,
   "metadata": {},
   "outputs": [
    {
     "name": "stdout",
     "output_type": "stream",
     "text": [
      "7\n",
      "seven\n",
      "None\n",
      "[1, 2, 3, 1, 2, 3, 1, 2, 3]\n",
      "3\n",
      "Bach 1234271\n",
      "Neely 1234271\n"
     ]
    },
    {
     "data": {
      "text/plain": [
       "1234271"
      ]
     },
     "execution_count": 19,
     "metadata": {},
     "output_type": "execute_result"
    }
   ],
   "source": [
    "list1 = []\n",
    "list1.append(7)\n",
    "list1.append(\"seven\")\n",
    "list1.append(None)\n",
    "\n",
    "for el in list1:\n",
    "    print(el)\n",
    "\n",
    "# List maths:\n",
    "print([1,2,3] * 3)\n",
    "\n",
    "# List methods\n",
    "print(len(list1))\n",
    "list1.count(7)\n",
    "\n",
    "# Dicts\n",
    "phones = {}\n",
    "phones[\"Bach\"] = 1234271\n",
    "phones[\"Neely\"] = 1234271\n",
    "\n",
    "for name, number in phones.items():\n",
    "    print(name, number)\n",
    "\n",
    "del phones[\"Bach\"]\n",
    "phones.pop(\"Neely\")"
   ]
  },
  {
   "cell_type": "markdown",
   "metadata": {},
   "source": [
    "### Условия"
   ]
  },
  {
   "cell_type": "code",
   "execution_count": 17,
   "metadata": {},
   "outputs": [
    {
     "name": "stdout",
     "output_type": "stream",
     "text": [
      "Good to go\n"
     ]
    }
   ],
   "source": [
    "name = \"Regin\"\n",
    "age = 11\n",
    "if name is not \"Vagin\" and age is not 0:\n",
    "    print(\"Good to go\")\n",
    "elif len(name) == 5:\n",
    "    print(\"Mhm?\")\n",
    "    pass\n",
    "\n",
    "x1 = [1,2]\n",
    "y1 = [1,2]\n",
    "x1 == y1 # True\n",
    "x1 is y1 # False\n"
   ]
  },
  {
   "cell_type": "markdown",
   "metadata": {},
   "source": [
    "###  Циклы"
   ]
  },
  {
   "cell_type": "code",
   "execution_count": 18,
   "metadata": {},
   "outputs": [
    {
     "name": "stdout",
     "output_type": "stream",
     "text": [
      "1: 2\n",
      "1: 3\n",
      "1: 4\n",
      "1: 5\n",
      "2: 0\n",
      "2: 1\n",
      "2: 2\n",
      "2: 3\n",
      "2: 4\n",
      "3: 3\n",
      "3: 4\n",
      "3: 5\n",
      "3: 6\n",
      "current count: 0\n",
      "current count: 1\n",
      "current count: 2\n",
      "current count: 3\n",
      "current count: 4\n"
     ]
    }
   ],
   "source": [
    "for x in [2,3,4,5]:\n",
    "    print(\"1: %d\" %x)\n",
    "\n",
    "for x in range(5):\n",
    "    print(\"2: %d\" %x)\n",
    "\n",
    "for x in range(3,7):\n",
    "    print(\"3: %d\" %x)\n",
    "\n",
    "count = 0\n",
    "while count < 5:\n",
    "    print(\"current count: %d\" %count)\n",
    "    count += 1"
   ]
  },
  {
   "cell_type": "markdown",
   "metadata": {},
   "source": [
    "### Импорты: NumPy"
   ]
  },
  {
   "cell_type": "code",
   "execution_count": 20,
   "metadata": {},
   "outputs": [
    {
     "name": "stdout",
     "output_type": "stream",
     "text": [
      "[4 5 6]\n",
      "[ True  True False]\n",
      "[4.   1.25]\n"
     ]
    }
   ],
   "source": [
    "# To import blach.py write `import blach`\n",
    "# from blach import fugue\n",
    "# import blach as handel\n",
    "\n",
    "# To change dir of py module use sys.path.append(\"/modern\")\n",
    "\n",
    "# For default imports there are help(). help(blach)\n",
    "\n",
    "# if dir is a module it must include __init__.py just as index.ts\n",
    "\n",
    "# numpy\n",
    "import numpy as np \n",
    "\n",
    "np_arr = np.array([4,5,6])\n",
    "np_2 = np.array([1,2,3])\n",
    "print(np_arr)\n",
    "\n",
    "# Element-wise\n",
    "bmi = np_arr / np_2 ** 2\n",
    "\n",
    "# Subsetting\n",
    "print(bmi > 1) # For every element\n",
    "\n",
    "print(bmi[bmi > 1]) # Like js filter()"
   ]
  },
  {
   "cell_type": "markdown",
   "metadata": {},
   "source": [
    "### Исключения"
   ]
  },
  {
   "cell_type": "code",
   "execution_count": 24,
   "metadata": {},
   "outputs": [
    {
     "name": "stdout",
     "output_type": "stream",
     "text": [
      "boomer\n"
     ]
    }
   ],
   "source": [
    "try:\n",
    "    12 / 0\n",
    "    a2 = \"Ok\"\n",
    "except ZeroDivisionError:\n",
    "    a2 = \"boomer\"\n",
    "\n",
    "print(a2)"
   ]
  }
 ],
 "metadata": {
  "kernelspec": {
   "display_name": "Python 3",
   "language": "python",
   "name": "python3"
  },
  "language_info": {
   "codemirror_mode": {
    "name": "ipython",
    "version": 3
   },
   "file_extension": ".py",
   "mimetype": "text/x-python",
   "name": "python",
   "nbconvert_exporter": "python",
   "pygments_lexer": "ipython3",
   "version": "3.7.4"
  }
 },
 "nbformat": 4,
 "nbformat_minor": 2
}
