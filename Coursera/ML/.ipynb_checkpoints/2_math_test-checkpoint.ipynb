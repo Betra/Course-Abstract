{
 "cells": [
  {
   "cell_type": "markdown",
   "metadata": {},
   "source": [
    "# Ликбез NumPy"
   ]
  },
  {
   "cell_type": "code",
   "execution_count": 21,
   "metadata": {
    "slideshow": {
     "slide_type": "slide"
    }
   },
   "outputs": [
    {
     "name": "stdout",
     "output_type": "stream",
     "text": [
      "Matrix A (4x3) = \n",
      "[[ 1  2  3]\n",
      " [ 4  5  6]\n",
      " [ 7  8  9]\n",
      " [10 11 12]]\n",
      "\n",
      "Vector v (3) = \n",
      "[[1]\n",
      " [2]\n",
      " [3]]\n",
      "\n",
      "5 3\n"
     ]
    }
   ],
   "source": [
    "import numpy as np\n",
    "\n",
    "A = np.array([[1,2,3],[4,5,6],[7,8,9],[10,11,12]])\n",
    "[A_rows, A_cols] = np.shape(A)\n",
    "\n",
    "print(\"Matrix A (%dx%d) = \\n%s\\n\" % (A_rows, A_cols, A))\n",
    "\n",
    "v = np.array([[1],[2],[3]])\n",
    "[v_rows, v_cols] = np.shape(v)\n",
    "print(\"Vector v (%d) = \\n%s\\n\" % (v_rows, v))\n",
    "\n",
    "print(A[1,1], v[2,0])"
   ]
  },
  {
   "cell_type": "markdown",
   "metadata": {},
   "source": [
    "## Операции над матрицами"
   ]
  },
  {
   "cell_type": "code",
   "execution_count": 47,
   "metadata": {},
   "outputs": [
    {
     "name": "stdout",
     "output_type": "stream",
     "text": [
      "A + B = \n",
      "[[3 3 3]\n",
      " [3 3 3]\n",
      " [3 3 3]]\n",
      "\n",
      "A * 4 = \n",
      "[[ 4  8  4]\n",
      " [12 24  4]\n",
      " [28  8  8]]\n",
      "\n",
      "A * C = \n",
      "[[ 4 10]\n",
      " [10 18]\n",
      " [35  4]]\n",
      "\n",
      "I = \n",
      "[[1. 0. 0.]\n",
      " [0. 1. 0.]\n",
      " [0. 0. 1.]]\n",
      "\n",
      "[[-4.16666667e-01  8.33333333e-02  1.66666667e-01]\n",
      " [-4.16666667e-02  2.08333333e-01 -8.33333333e-02]\n",
      " [ 1.50000000e+00 -5.00000000e-01 -1.18952467e-17]]\n",
      "\n",
      " A* A^(-1) = I = \n",
      "[[ 1.00000000e+00  0.00000000e+00 -1.18952467e-17]\n",
      " [ 0.00000000e+00  1.00000000e+00 -1.18952467e-17]\n",
      " [ 0.00000000e+00  0.00000000e+00  1.00000000e+00]]\n",
      "\n",
      "Transposed vector: [[1 2 3]]\n",
      "\n"
     ]
    }
   ],
   "source": [
    "import numpy as np\n",
    "\n",
    "A = np.array([[1,2,1],[3,6,1],[7,2,2]])\n",
    "B = np.array([[2,1,2],[0,-3,2],[-4,1,1]])\n",
    "\n",
    "C = np.array([[5,-2],[-1,3],[1,6]])\n",
    "\n",
    "# Sum\n",
    "Sum = A + B\n",
    "print(\"A + B = \\n%s\\n\" %Sum)\n",
    "\n",
    "# Scalar multiplication\n",
    "print(\"A * 4 = \\n%s\\n\" %(A*4))\n",
    "\n",
    "# Matrix multiplication\n",
    "M = A @ C\n",
    "print(\"A * C = \\n%s\\n\" %M)\n",
    "\n",
    "# Identification matrix\n",
    "print(\"I = \\n%s\\n\" % np.eye(3))\n",
    "\n",
    "# Inverse\n",
    "Am = np.linalg.inv(A)\n",
    "print(Am)\n",
    "print(\"\\n A* A^(-1) = I = \\n%s\\n\" % (A@Am))\n",
    "\n",
    "print(\"Transposed vector: %s\\n\" %v.T)"
   ]
  },
  {
   "cell_type": "code",
   "execution_count": null,
   "metadata": {},
   "outputs": [],
   "source": []
  }
 ],
 "metadata": {
  "kernelspec": {
   "display_name": "Python 3",
   "language": "python",
   "name": "python3"
  },
  "language_info": {
   "codemirror_mode": {
    "name": "ipython",
    "version": 3
   },
   "file_extension": ".py",
   "mimetype": "text/x-python",
   "name": "python",
   "nbconvert_exporter": "python",
   "pygments_lexer": "ipython3",
   "version": "3.7.4"
  }
 },
 "nbformat": 4,
 "nbformat_minor": 4
}
