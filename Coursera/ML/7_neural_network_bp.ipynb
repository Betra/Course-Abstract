{
 "cells": [
  {
   "cell_type": "markdown",
   "metadata": {},
   "source": [
    "# Обучение нейронных сетей\n",
    "Задание курса **Coursera ML with Andrew Ng**. Неделя 5.\n",
    "Обучен ие нейросетей с помощью алгоритма `backpropagation`.\n",
    "Минимизация функции будет осуществляться градиентным спуском с проверкой градиентов.\n",
    "\n",
    "На прошлой неделе мы осуществили `feedforward propagation` для предсказания чисел, задача этой недели остается прежней, однако механизм усложняется, теперь мы самостоятельно будем обучать нейросеть. Требуется полный проход в обе стороны. \n",
    "## Подготовка датасетов"
   ]
  },
  {
   "cell_type": "code",
   "execution_count": 2,
   "metadata": {},
   "outputs": [],
   "source": [
    "from scipy.io import loadmat\n",
    "from datetime import datetime\n",
    "import numpy as np\n",
    "import pandas as pd\n",
    "import matplotlib.pyplot as plt\n",
    "import scipy.optimize as optimize\n",
    "import utils"
   ]
  },
  {
   "cell_type": "code",
   "execution_count": 28,
   "metadata": {},
   "outputs": [
    {
     "name": "stdout",
     "output_type": "stream",
     "text": [
      "/Users/love/Documents/ML/machine-learning-ex4/ex4\n"
     ]
    },
    {
     "data": {
      "text/html": [
       "<div>\n",
       "<style scoped>\n",
       "    .dataframe tbody tr th:only-of-type {\n",
       "        vertical-align: middle;\n",
       "    }\n",
       "\n",
       "    .dataframe tbody tr th {\n",
       "        vertical-align: top;\n",
       "    }\n",
       "\n",
       "    .dataframe thead th {\n",
       "        text-align: right;\n",
       "    }\n",
       "</style>\n",
       "<table border=\"1\" class=\"dataframe\">\n",
       "  <thead>\n",
       "    <tr style=\"text-align: right;\">\n",
       "      <th></th>\n",
       "      <th>0</th>\n",
       "      <th>1</th>\n",
       "      <th>2</th>\n",
       "      <th>3</th>\n",
       "      <th>4</th>\n",
       "      <th>5</th>\n",
       "      <th>6</th>\n",
       "      <th>7</th>\n",
       "      <th>8</th>\n",
       "      <th>9</th>\n",
       "      <th>...</th>\n",
       "      <th>390</th>\n",
       "      <th>391</th>\n",
       "      <th>392</th>\n",
       "      <th>393</th>\n",
       "      <th>394</th>\n",
       "      <th>395</th>\n",
       "      <th>396</th>\n",
       "      <th>397</th>\n",
       "      <th>398</th>\n",
       "      <th>399</th>\n",
       "    </tr>\n",
       "  </thead>\n",
       "  <tbody>\n",
       "    <tr>\n",
       "      <th>0</th>\n",
       "      <td>0.0</td>\n",
       "      <td>0.0</td>\n",
       "      <td>0.0</td>\n",
       "      <td>0.0</td>\n",
       "      <td>0.0</td>\n",
       "      <td>0.0</td>\n",
       "      <td>0.0</td>\n",
       "      <td>0.0</td>\n",
       "      <td>0.0</td>\n",
       "      <td>0.0</td>\n",
       "      <td>...</td>\n",
       "      <td>0.0</td>\n",
       "      <td>0.0</td>\n",
       "      <td>0.0</td>\n",
       "      <td>0.0</td>\n",
       "      <td>0.0</td>\n",
       "      <td>0.0</td>\n",
       "      <td>0.0</td>\n",
       "      <td>0.0</td>\n",
       "      <td>0.0</td>\n",
       "      <td>0.0</td>\n",
       "    </tr>\n",
       "    <tr>\n",
       "      <th>1</th>\n",
       "      <td>0.0</td>\n",
       "      <td>0.0</td>\n",
       "      <td>0.0</td>\n",
       "      <td>0.0</td>\n",
       "      <td>0.0</td>\n",
       "      <td>0.0</td>\n",
       "      <td>0.0</td>\n",
       "      <td>0.0</td>\n",
       "      <td>0.0</td>\n",
       "      <td>0.0</td>\n",
       "      <td>...</td>\n",
       "      <td>0.0</td>\n",
       "      <td>0.0</td>\n",
       "      <td>0.0</td>\n",
       "      <td>0.0</td>\n",
       "      <td>0.0</td>\n",
       "      <td>0.0</td>\n",
       "      <td>0.0</td>\n",
       "      <td>0.0</td>\n",
       "      <td>0.0</td>\n",
       "      <td>0.0</td>\n",
       "    </tr>\n",
       "    <tr>\n",
       "      <th>2</th>\n",
       "      <td>0.0</td>\n",
       "      <td>0.0</td>\n",
       "      <td>0.0</td>\n",
       "      <td>0.0</td>\n",
       "      <td>0.0</td>\n",
       "      <td>0.0</td>\n",
       "      <td>0.0</td>\n",
       "      <td>0.0</td>\n",
       "      <td>0.0</td>\n",
       "      <td>0.0</td>\n",
       "      <td>...</td>\n",
       "      <td>0.0</td>\n",
       "      <td>0.0</td>\n",
       "      <td>0.0</td>\n",
       "      <td>0.0</td>\n",
       "      <td>0.0</td>\n",
       "      <td>0.0</td>\n",
       "      <td>0.0</td>\n",
       "      <td>0.0</td>\n",
       "      <td>0.0</td>\n",
       "      <td>0.0</td>\n",
       "    </tr>\n",
       "    <tr>\n",
       "      <th>3</th>\n",
       "      <td>0.0</td>\n",
       "      <td>0.0</td>\n",
       "      <td>0.0</td>\n",
       "      <td>0.0</td>\n",
       "      <td>0.0</td>\n",
       "      <td>0.0</td>\n",
       "      <td>0.0</td>\n",
       "      <td>0.0</td>\n",
       "      <td>0.0</td>\n",
       "      <td>0.0</td>\n",
       "      <td>...</td>\n",
       "      <td>0.0</td>\n",
       "      <td>0.0</td>\n",
       "      <td>0.0</td>\n",
       "      <td>0.0</td>\n",
       "      <td>0.0</td>\n",
       "      <td>0.0</td>\n",
       "      <td>0.0</td>\n",
       "      <td>0.0</td>\n",
       "      <td>0.0</td>\n",
       "      <td>0.0</td>\n",
       "    </tr>\n",
       "    <tr>\n",
       "      <th>4</th>\n",
       "      <td>0.0</td>\n",
       "      <td>0.0</td>\n",
       "      <td>0.0</td>\n",
       "      <td>0.0</td>\n",
       "      <td>0.0</td>\n",
       "      <td>0.0</td>\n",
       "      <td>0.0</td>\n",
       "      <td>0.0</td>\n",
       "      <td>0.0</td>\n",
       "      <td>0.0</td>\n",
       "      <td>...</td>\n",
       "      <td>0.0</td>\n",
       "      <td>0.0</td>\n",
       "      <td>0.0</td>\n",
       "      <td>0.0</td>\n",
       "      <td>0.0</td>\n",
       "      <td>0.0</td>\n",
       "      <td>0.0</td>\n",
       "      <td>0.0</td>\n",
       "      <td>0.0</td>\n",
       "      <td>0.0</td>\n",
       "    </tr>\n",
       "  </tbody>\n",
       "</table>\n",
       "<p>5 rows × 400 columns</p>\n",
       "</div>"
      ],
      "text/plain": [
       "   0    1    2    3    4    5    6    7    8    9    ...  390  391  392  393  \\\n",
       "0  0.0  0.0  0.0  0.0  0.0  0.0  0.0  0.0  0.0  0.0  ...  0.0  0.0  0.0  0.0   \n",
       "1  0.0  0.0  0.0  0.0  0.0  0.0  0.0  0.0  0.0  0.0  ...  0.0  0.0  0.0  0.0   \n",
       "2  0.0  0.0  0.0  0.0  0.0  0.0  0.0  0.0  0.0  0.0  ...  0.0  0.0  0.0  0.0   \n",
       "3  0.0  0.0  0.0  0.0  0.0  0.0  0.0  0.0  0.0  0.0  ...  0.0  0.0  0.0  0.0   \n",
       "4  0.0  0.0  0.0  0.0  0.0  0.0  0.0  0.0  0.0  0.0  ...  0.0  0.0  0.0  0.0   \n",
       "\n",
       "   394  395  396  397  398  399  \n",
       "0  0.0  0.0  0.0  0.0  0.0  0.0  \n",
       "1  0.0  0.0  0.0  0.0  0.0  0.0  \n",
       "2  0.0  0.0  0.0  0.0  0.0  0.0  \n",
       "3  0.0  0.0  0.0  0.0  0.0  0.0  \n",
       "4  0.0  0.0  0.0  0.0  0.0  0.0  \n",
       "\n",
       "[5 rows x 400 columns]"
      ]
     },
     "execution_count": 28,
     "metadata": {},
     "output_type": "execute_result"
    }
   ],
   "source": [
    "%cd ~/Documents/ML/machine-learning-ex4/ex4/\n",
    "\n",
    "mat = loadmat('ex4data1.mat')\n",
    "X = np.array(mat['X'])\n",
    "Y = np.array(mat['y'])\n",
    "m,n = X.shape\n",
    "\n",
    "mat_weights = loadmat('ex4weights.mat')\n",
    "Theta1 = np.array(mat_weights['Theta1'])\n",
    "Theta2 = np.array(mat_weights['Theta2'])\n",
    "\n",
    "weights = np.concatenate((Theta1.flatten(),Theta2.flatten()))\n",
    "\n",
    "pd.DataFrame(X).head()"
   ]
  },
  {
   "cell_type": "markdown",
   "metadata": {},
   "source": [
    "Как и в прошлом упражнении, посмотрим на примеры имеющихся картинок:"
   ]
  },
  {
   "cell_type": "code",
   "execution_count": 17,
   "metadata": {
    "jupyter": {
     "source_hidden": true
    }
   },
   "outputs": [
    {
     "data": {
      "image/png": "[encoded data removed]",
      "text/plain": [
       "<Figure size 432x288 with 100 Axes>"
      ]
     },
     "metadata": {
      "needs_background": "light"
     },
     "output_type": "display_data"
    }
   ],
   "source": [
    "def draw_images(X, amount = 100):\n",
    "    \n",
    "    for i in range(1,amount +1):\n",
    "        index = np.random.randint(0,4999)\n",
    "        num = X[index,:].reshape(20,20).T\n",
    "        \n",
    "        ax = plt.subplot(10,10,i)\n",
    "        ax.imshow(num, cmap=\"gray\")\n",
    "        plt.axis('off')\n",
    "    \n",
    "    plt.show()\n",
    "draw_images(X)"
   ]
  },
  {
   "cell_type": "markdown",
   "metadata": {},
   "source": [
    "## Стоимостная функция нейронной сети\n",
    "Без регуляризации и при $ L = 1 $ функция выглядит так:\n",
    "$$ J(\\theta) = \\frac{1}{m} \\sum \\limits _{i=1} ^{m} \\sum \\limits _{k=1} ^{K} [ -y_k^{(i)} \\log((h_\\theta(x^{(i)}))_k) - (1 - y_k^{(i)}) \\log(1 - (h_\\theta(x^{(i)}))_k)] $$\n",
    "При этом $ h_\\theta(x^{(i)})_k = a^{(3)}_k $ — активация исходного нейрона определенного числа.\n",
    "\n",
    "Мы объеденим веса в один вектор, для воссоздания матриц $ \\Theta $ потребуются параметры:\n",
    "$l_1$ — количество нейронов на входном слое, $l_2$ — количество нейронов в скрытом слое, $K$ — количество выходных нейронов.\n",
    "В нашем случае $ \\Theta^{(1)} \\in \\vec{\\theta}, \\Theta^{(2)} \\in \\vec{\\theta} $, воссоздание весов происходит следующим образом:\n",
    "$$ \\Theta^{(1)} = \\vec{\\theta}[1:l_2 \\times (l_1 + 1)] \\in \\mathbb{R}^{l_2 \\times (l_1 + 1)} $$\n",
    "$$ \\Theta^{(2)} = \\vec{\\theta}[l_2 \\times (l_1 + 1) + 1:] \\in \\mathbb{R}^{K \\times (l_2 + 1)}$$\n",
    "\n",
    "Для нахождения стоимостной функции мы используем `feedforward propagation`, полностью прогоняя нейросеть в одном направлении\n",
    "\n",
    "### Касательно векторизации и размерностей\n",
    "Используя `one hot encoding` мы получим матрицу $ Y \\in \\mathbb{R}^{m \\times k}$ и матрицу активаций выходных нейронов $ H \\in \\mathbb{R}^{m \\times k} $, для получения аналога двойному суммированию в векторной форме мы будем использовать не матричное умножение, но поэлементное. В матричном виде функция будет выглядеть так:\n",
    "$$ J(\\theta) = \\frac{1}{m} \\sum -Y \\cdot \\ln(H) - (1-Y) \\cdot \\ln(1-H) $$\n",
    "\n",
    "\n",
    "### Регуляризация\n",
    "Стоимостная функция для логистической регрессии в нейросетяж выглядит так:\n",
    "$$ J(\\theta) = \\frac{1}{m} \\sum \\limits _{i=1} ^{m} \\sum \\limits _{k=1} ^{K} [-y_k^{(i)} \\log(h_\\theta(x^{(i)})_k) - (1 - y_k^{(i)}) \\log(1 - h_\\theta(x^{(i)})_k)] + \\frac{\\lambda}{2m} [\\sum \\limits _{j=1} ^{l_2} \\sum \\limits _{k=1} ^{l_1} (\\Theta_{j,k}^{(1)})^2 + \\sum \\limits _{j=1} ^{K} \\sum \\limits _{k=1} ^{l_2} (\\Theta_{j,k}^{(2)})^2] $$"
   ]
  },
  {
   "cell_type": "code",
   "execution_count": 18,
   "metadata": {},
   "outputs": [],
   "source": [
    "def sigmoid(z):\n",
    "    return 1/(1 + np.exp(-1 * z))\n",
    "\n",
    "def hypothesis(X, theta):\n",
    "    z = theta @ X.T\n",
    "    return sigmoid(z).T\n",
    "\n",
    "def with_bias(X):\n",
    "    m,n = X.shape\n",
    "    return np.concatenate((np.ones((m,1)),X),1)\n",
    "\n",
    "def one_hot_encoding(y, k = 10):\n",
    "    m,n = y.shape\n",
    "    \n",
    "    Y = np.zeros((m,k))\n",
    "    for i in range(len(y.reshape(m))):\n",
    "        Y[i,y[i] - 1] = 1\n",
    "    return Y"
   ]
  },
  {
   "cell_type": "code",
   "execution_count": 19,
   "metadata": {},
   "outputs": [],
   "source": [
    "# @param weights — all flatten weights\n",
    "# @param input_size — is a length of a hidden layer\n",
    "# @param hidden_size is a shape of a hidden layer\n",
    "# @param num_labels is a OHE shape, amount of classified items\n",
    "def cost(weights, input_size, hidden_size, num_labels, X,y,reg = None):\n",
    "    start = datetime.now()\n",
    "    \n",
    "    Theta1 = weights[0:hidden_size * (input_size +1)].reshape(hidden_size, input_size + 1)\n",
    "    Theta2 = weights[hidden_size * (input_size +1):].reshape(num_labels, hidden_size + 1)\n",
    "    \n",
    "    m,n = X.shape\n",
    "    \n",
    "    a1 = with_bias(X)\n",
    "    z2 = Theta1 @ a1.T\n",
    "    a2 = with_bias(sigmoid(z2).T)\n",
    "    z3 = Theta2 @ a2.T\n",
    "    a3 = sigmoid(z3).T\n",
    "    H = a3\n",
    "    \n",
    "    Y = one_hot_encoding(y, num_labels)\n",
    "    \n",
    "    d3 = a3 - Y\n",
    "    print(Theta2.T.shape, d3.shape, z2.shape)\n",
    "    d2 = Theta2.T @ d3.T * with_bias(sigmoidGrad(z2).T).T\n",
    "    \n",
    "    modifier = 0\n",
    "    if reg != None:\n",
    "        modifier = reg / (2 * m) * (np.sum((Theta1[:,1:])**2) + np.sum((Theta2[:,1:])**2))\n",
    "    \n",
    "    J = np.sum(-Y * np.log(H) - (1 - Y) * np.log(1-H))/m + modifier\n",
    "    \n",
    "    end = datetime.now() - start\n",
    "    print(\"Cost calculation took\", end)\n",
    "    return J"
   ]
  },
  {
   "cell_type": "code",
   "execution_count": 20,
   "metadata": {},
   "outputs": [
    {
     "name": "stdout",
     "output_type": "stream",
     "text": [
      "(26, 10) (5000, 10) (25, 5000)\n",
      "Cost calculation took 0:00:00.039928\n",
      "J is 0.576\n"
     ]
    }
   ],
   "source": [
    "J = cost(weights, 400, 25, 10, X,Y,3)\n",
    "print(\"J is %.3f\" %J)"
   ]
  },
  {
   "cell_type": "markdown",
   "metadata": {},
   "source": [
    "## Backpropagation\n",
    "### Производная от логистической функции\n",
    "Теперь для вычисления производных пройдем backpropagation. В первую очередь найдем производную логистической функции:\n",
    "$$ g'(z) = \\frac{d}{dz}g(z) = g(z)(1 - g(z)) $$\n",
    "\n",
    "### Случайная инициализация\n",
    "Для тренировки нейросетей необходимо использовать случайно полученные веса для избежания нейронов близнецов. Хорошим примером генерации будет задание матрицы $ \\Theta^{(l)} \\in [-\\epsilon_{init}; \\epsilon_{init}] $. В данном варианте мы используем $ \\epsilon_{init} = 0.12 $. Это число выбирается исходя из числа нейронов: $ \\frac{\\sqrt{6}}{\\sqrt{L_{in} + L_{out}}} $, где $ L_{in} $ — число $ s_l $, $ L_{out} $ — число $ s_{l+1} $: количества нейронов относительно $ \\Theta^{(l)} $\n",
    "\n",
    "### Ошибки нейронов\n",
    "Теперь мы производим `feedforward propagation`, чтобы вычислить активации, и по ним найти ошибки нейронов. Для выходного слоя:\n",
    "$$ \\delta_k^{(3)} = (a_k^{(3)} - y_k), \\delta^{(3)} \\in \\mathbb{R}Y \\Longleftrightarrow \\mathbb{R}^{m \\times K} $$ \n",
    "\n",
    "Для скрытого слоя:\n",
    "$$ \\delta^{(2)} = (\\Theta^{(2)})^T \\delta^{(3)} \\cdot g'(z^{(2)}), \\delta^{(2)} \\in \\mathbb{R}A_2 \\Longleftrightarrow \\mathbb{R}^{(l_2 + 1) \\times m} $$\n",
    "\n",
    "Отсюда мы можем найти градиенты:\n",
    "$$ \\Delta^{(l)} = \\Delta^{(l)} + \\delta^{(l + 1)} (a^{(l)T}), \\Delta^{(2)} \\in \\mathbb{R}^{(l_2) \\times K}, \\Delta^{(1)} \\in \\mathbb{R}^{l_2 \\times l_1 } $$\n",
    "При этом мы пропустим $\\delta^{(l + 1)}_0 $.\n",
    "\n",
    "Наконец, можем посчитать производную по весам:\n",
    "$$ \\frac{\\partial}{\\partial\\Theta_{i,j}^{(l)}} J(\\Theta) = D_{i,j}^{(l)} = \\frac{1}{m} \\Delta^{(l)}_{i,j} $$"
   ]
  },
  {
   "cell_type": "code",
   "execution_count": 11,
   "metadata": {},
   "outputs": [],
   "source": [
    "def sigmoidGrad(z):\n",
    "    return sigmoid(z) * (1 - sigmoid(z))\n",
    "\n",
    "def random_weights(l_in, l_out):\n",
    "    epsilon_init = 0.12;\n",
    "    return np.random.rand(l_out, l_in) * 2 * epsilon_init - epsilon_init;\n",
    "    "
   ]
  },
  {
   "cell_type": "code",
   "execution_count": 12,
   "metadata": {},
   "outputs": [],
   "source": [
    "def backprop(weights, input_size, hidden_size, num_labels, X,y,reg = None):\n",
    "    start = datetime.now()\n",
    "    \n",
    "    Theta1 = weights[0:hidden_size * (input_size +1)].reshape(hidden_size, input_size + 1)\n",
    "    Theta2 = weights[hidden_size * (input_size +1):].reshape(num_labels, hidden_size + 1)\n",
    "    \n",
    "    m,n = X.shape\n",
    "    \n",
    "    a1 = with_bias(X)\n",
    "    \n",
    "    print(a1.shape, Theta1.shape)\n",
    "    z2 = Theta1 @ a1.T\n",
    "    a2 = sigmoid(z2).T\n",
    "    z3 = Theta2 @ with_bias(a2).T\n",
    "    a3 = sigmoid(z3).T\n",
    "    H = a3\n",
    "    \n",
    "    Y = one_hot_encoding(y, num_labels)\n",
    "    \n",
    "    \n",
    "    d3 = a3 - Y\n",
    "    print(\"HERE\", Theta2.shape,d3.shape, z2.shape)\n",
    "    d2 = (Theta2.T @ d3.T) * with_bias(sigmoidGrad(z2).T).T\n",
    "    \n",
    "    dl2 = (d3.T @ a2).T\n",
    "    dl1 = d2[1:,:] @ a1\n",
    "    \n",
    "    D1 = dl1 / m\n",
    "    D2 = dl2 / m\n",
    "    \n",
    "    print(dl2.shape,dl1.shape)\n",
    "    \n",
    "    print(Theta2.shape, d3.shape,d2.shape,dl2.shape, a2.shape, a1.shape)\n",
    "    \n",
    "    \n",
    "    modifier = 0\n",
    "    if reg != None:\n",
    "        modifier = reg / (2 * m) * (np.sum((Theta1[:,1:])**2) + np.sum((Theta2[:,1:])**2))\n",
    "    \n",
    "    J = np.sum(-Y * np.log(H) - (1 - Y) * np.log(1-H))/m + modifier\n",
    "    \n",
    "    end = datetime.now() - start\n",
    "    print(\"Cost calculation took\", end)\n",
    "    return J  "
   ]
  },
  {
   "cell_type": "code",
   "execution_count": 13,
   "metadata": {},
   "outputs": [
    {
     "name": "stdout",
     "output_type": "stream",
     "text": [
      "(5000, 401) (25, 401)\n",
      "HERE (10, 26) (5000, 10) (25, 5000)\n",
      "(25, 10) (25, 401)\n",
      "(10, 26) (5000, 10) (26, 5000) (25, 10) (5000, 25) (5000, 401)\n",
      "Cost calculation took 0:00:00.061716\n",
      "J is 0.576\n"
     ]
    }
   ],
   "source": [
    "J = backprop(weights, 400, 25, 10, X,Y,3)\n",
    "print(\"J is %.3f\" %J)"
   ]
  },
  {
   "cell_type": "markdown",
   "metadata": {},
   "source": [
    "## Проверка градиента\n",
    "Для проверки градиента на вычисление и баги мы можем написать простой алгоритм апроксимации, сравнение с которым предоставит нам большую уверенность в расчетах.\n"
   ]
  },
  {
   "cell_type": "code",
   "execution_count": 23,
   "metadata": {},
   "outputs": [],
   "source": [
    "def grad_check():\n",
    "    l1 = 3\n",
    "    l2 = 5\n",
    "    l3 = 3\n",
    "    m = 5 \n",
    "    \n",
    "    Theta1 = random_weights(l2,l1 +1)\n",
    "    Theta2 = random_weights(l3,l2 +1)\n",
    "    \n",
    "    print(Theta1.shape,Theta2.shape)\n",
    "    \n",
    "    X = random_weights(m, l1-1).T # generated X via weights doge\n",
    "    Y = np.mod(np.arange(1,m+1), m).T.reshape(5,1)\n",
    "    \n",
    "    print(X.shape, Y.shape)\n",
    "    params = np.concatenate((Theta1.flatten(),Theta2.flatten()),0)\n",
    "    \n",
    "    J_log = backprop(params, l1,l2,l3,X,Y) \n",
    "    \n",
    "    return J_log"
   ]
  },
  {
   "cell_type": "code",
   "execution_count": 24,
   "metadata": {},
   "outputs": [
    {
     "name": "stdout",
     "output_type": "stream",
     "text": [
      "(4, 5) (6, 3)\n",
      "(5, 2) (5, 1)\n",
      "(5, 3) (5, 4)\n"
     ]
    },
    {
     "ename": "ValueError",
     "evalue": "matmul: Input operand 1 has a mismatch in its core dimension 0, with gufunc signature (n?,k),(k,m?)->(n?,m?) (size 3 is different from 4)",
     "output_type": "error",
     "traceback": [
      "\u001b[0;31m---------------------------------------------------------------------------\u001b[0m",
      "\u001b[0;31mValueError\u001b[0m                                Traceback (most recent call last)",
      "\u001b[0;32m<ipython-input-24-c5fed4d2029b>\u001b[0m in \u001b[0;36m<module>\u001b[0;34m\u001b[0m\n\u001b[0;32m----> 1\u001b[0;31m \u001b[0mth\u001b[0m \u001b[0;34m=\u001b[0m \u001b[0mgrad_check\u001b[0m\u001b[0;34m(\u001b[0m\u001b[0;34m)\u001b[0m\u001b[0;34m\u001b[0m\u001b[0;34m\u001b[0m\u001b[0m\n\u001b[0m\u001b[1;32m      2\u001b[0m \u001b[0mpd\u001b[0m\u001b[0;34m.\u001b[0m\u001b[0mDataFrame\u001b[0m\u001b[0;34m(\u001b[0m\u001b[0mth\u001b[0m\u001b[0;34m)\u001b[0m\u001b[0;34m.\u001b[0m\u001b[0mhead\u001b[0m\u001b[0;34m(\u001b[0m\u001b[0;34m)\u001b[0m\u001b[0;34m\u001b[0m\u001b[0;34m\u001b[0m\u001b[0m\n",
      "\u001b[0;32m<ipython-input-23-0f651a7800ec>\u001b[0m in \u001b[0;36mgrad_check\u001b[0;34m()\u001b[0m\n\u001b[1;32m     16\u001b[0m     \u001b[0mparams\u001b[0m \u001b[0;34m=\u001b[0m \u001b[0mnp\u001b[0m\u001b[0;34m.\u001b[0m\u001b[0mconcatenate\u001b[0m\u001b[0;34m(\u001b[0m\u001b[0;34m(\u001b[0m\u001b[0mTheta1\u001b[0m\u001b[0;34m.\u001b[0m\u001b[0mflatten\u001b[0m\u001b[0;34m(\u001b[0m\u001b[0;34m)\u001b[0m\u001b[0;34m,\u001b[0m\u001b[0mTheta2\u001b[0m\u001b[0;34m.\u001b[0m\u001b[0mflatten\u001b[0m\u001b[0;34m(\u001b[0m\u001b[0;34m)\u001b[0m\u001b[0;34m)\u001b[0m\u001b[0;34m,\u001b[0m\u001b[0;36m0\u001b[0m\u001b[0;34m)\u001b[0m\u001b[0;34m\u001b[0m\u001b[0;34m\u001b[0m\u001b[0m\n\u001b[1;32m     17\u001b[0m \u001b[0;34m\u001b[0m\u001b[0m\n\u001b[0;32m---> 18\u001b[0;31m     \u001b[0mJ_log\u001b[0m \u001b[0;34m=\u001b[0m \u001b[0mbackprop\u001b[0m\u001b[0;34m(\u001b[0m\u001b[0mparams\u001b[0m\u001b[0;34m,\u001b[0m \u001b[0ml1\u001b[0m\u001b[0;34m,\u001b[0m\u001b[0ml2\u001b[0m\u001b[0;34m,\u001b[0m\u001b[0ml3\u001b[0m\u001b[0;34m,\u001b[0m\u001b[0mX\u001b[0m\u001b[0;34m,\u001b[0m\u001b[0mY\u001b[0m\u001b[0;34m)\u001b[0m\u001b[0;34m\u001b[0m\u001b[0;34m\u001b[0m\u001b[0m\n\u001b[0m\u001b[1;32m     19\u001b[0m \u001b[0;34m\u001b[0m\u001b[0m\n\u001b[1;32m     20\u001b[0m     \u001b[0;32mreturn\u001b[0m \u001b[0mJ_log\u001b[0m\u001b[0;34m\u001b[0m\u001b[0;34m\u001b[0m\u001b[0m\n",
      "\u001b[0;32m<ipython-input-12-f9cd8197a068>\u001b[0m in \u001b[0;36mbackprop\u001b[0;34m(weights, input_size, hidden_size, num_labels, X, y, reg)\u001b[0m\n\u001b[1;32m     10\u001b[0m \u001b[0;34m\u001b[0m\u001b[0m\n\u001b[1;32m     11\u001b[0m     \u001b[0mprint\u001b[0m\u001b[0;34m(\u001b[0m\u001b[0ma1\u001b[0m\u001b[0;34m.\u001b[0m\u001b[0mshape\u001b[0m\u001b[0;34m,\u001b[0m \u001b[0mTheta1\u001b[0m\u001b[0;34m.\u001b[0m\u001b[0mshape\u001b[0m\u001b[0;34m)\u001b[0m\u001b[0;34m\u001b[0m\u001b[0;34m\u001b[0m\u001b[0m\n\u001b[0;32m---> 12\u001b[0;31m     \u001b[0mz2\u001b[0m \u001b[0;34m=\u001b[0m \u001b[0mTheta1\u001b[0m \u001b[0;34m@\u001b[0m \u001b[0ma1\u001b[0m\u001b[0;34m.\u001b[0m\u001b[0mT\u001b[0m\u001b[0;34m\u001b[0m\u001b[0;34m\u001b[0m\u001b[0m\n\u001b[0m\u001b[1;32m     13\u001b[0m     \u001b[0ma2\u001b[0m \u001b[0;34m=\u001b[0m \u001b[0msigmoid\u001b[0m\u001b[0;34m(\u001b[0m\u001b[0mz2\u001b[0m\u001b[0;34m)\u001b[0m\u001b[0;34m.\u001b[0m\u001b[0mT\u001b[0m\u001b[0;34m\u001b[0m\u001b[0;34m\u001b[0m\u001b[0m\n\u001b[1;32m     14\u001b[0m     \u001b[0mz3\u001b[0m \u001b[0;34m=\u001b[0m \u001b[0mTheta2\u001b[0m \u001b[0;34m@\u001b[0m \u001b[0mwith_bias\u001b[0m\u001b[0;34m(\u001b[0m\u001b[0ma2\u001b[0m\u001b[0;34m)\u001b[0m\u001b[0;34m.\u001b[0m\u001b[0mT\u001b[0m\u001b[0;34m\u001b[0m\u001b[0;34m\u001b[0m\u001b[0m\n",
      "\u001b[0;31mValueError\u001b[0m: matmul: Input operand 1 has a mismatch in its core dimension 0, with gufunc signature (n?,k),(k,m?)->(n?,m?) (size 3 is different from 4)"
     ]
    }
   ],
   "source": [
    "th = grad_check()\n",
    "pd.DataFrame(th).head()"
   ]
  },
  {
   "cell_type": "code",
   "execution_count": null,
   "metadata": {},
   "outputs": [],
   "source": []
  },
  {
   "cell_type": "code",
   "execution_count": null,
   "metadata": {},
   "outputs": [],
   "source": []
  },
  {
   "cell_type": "code",
   "execution_count": null,
   "metadata": {},
   "outputs": [],
   "source": []
  }
 ],
 "metadata": {
  "kernelspec": {
   "display_name": "Python 3",
   "language": "python",
   "name": "python3"
  },
  "language_info": {
   "codemirror_mode": {
    "name": "ipython",
    "version": 3
   },
   "file_extension": ".py",
   "mimetype": "text/x-python",
   "name": "python",
   "nbconvert_exporter": "python",
   "pygments_lexer": "ipython3",
   "version": "3.7.4"
  }
 },
 "nbformat": 4,
 "nbformat_minor": 4
}
