{
 "cells": [
  {
   "cell_type": "markdown",
   "metadata": {},
   "source": [
    "# Линейная Регрессия и Градиентный Спуск\n",
    "Задание курса **Coursera ML with Andrew Ng**. Неделя 2.\n",
    "Практическая реализация алгоритма линейной регрессии для 1 и более параметров. \n",
    "Для подбора оптимальных параметров $ \\theta $ будут разработаны алгоритмы *градиентного спуска* и *нормализованного уравнения (normal equation)*. Также будет произведено *уплотнение (feature scaling)* для более гладкой работы спуска.\n",
    "## Подготовка датасетов"
   ]
  },
  {
   "cell_type": "code",
   "execution_count": 4,
   "metadata": {},
   "outputs": [
    {
     "name": "stdout",
     "output_type": "stream",
     "text": [
      "/Users/love/Documents/ML/machine-learning-ex1/ex1\n"
     ]
    }
   ],
   "source": [
    "import numpy as np, pandas as pd,matplotlib.pyplot as plt,mpl_toolkits.mplot3d, utils\n",
    "from matplotlib import cm\n",
    "from matplotlib.ticker import LinearLocator, FormatStrFormatter\n",
    "\n",
    "%cd ~/Documents/ML/machine-learning-ex1/ex1/\n",
    "\n",
    "# One-feature dataset. M=96 N=1\n",
    "dataset_1X = pd.read_csv(\"ex1data1.txt\")\n",
    "\n",
    "X1 = dataset_1X.to_numpy()[:,0].reshape(96,1)\n",
    "X1 = np.concatenate((np.ones((X1.shape[0],1)),X1),1)\n",
    "Y1 = dataset_1X.to_numpy()[:,1].reshape(96,1)\n",
    "\n",
    "# Two-features dataset. M=46 N=2\n",
    "dataset_multiX = pd.read_csv(\"ex1data2.txt\")\n",
    "\n",
    "X2 = dataset_multiX.to_numpy()[:,0:2].reshape(46,2)\n",
    "X2 = np.concatenate((np.ones((X2.shape[0],1)),X2),1)\n",
    "Y2 = dataset_multiX.to_numpy()[:,2].reshape(46,1)"
   ]
  },
  {
   "cell_type": "markdown",
   "metadata": {},
   "source": [
    "## Стоимостная функция J($ \\theta $) в линейной регрессии\n",
    "Стоимостная функция показывает ошибку в отклонении гипотететической функции от датасета. Соответственно, предпочтительно минимизировать J($ \\theta $), используя алгоритмы оптимизации параметров.\n",
    "\n",
    "В линейной регрессии нам достаточно считать суммарную квадратную ошибку: $$ J(\\theta) = \\frac{1}{2m} \\sum \\limits _{i=1} ^{m} [h_{\\theta}(x^{(i)}) - y^{(i)}]^2  $$\n",
    "\n",
    "Или в векторном виде:\n",
    "$$ J(\\theta) = \\frac{1}{2m} \\sum (\\vec{h}(\\mathbf{X}) - \\vec{y})^2 $$\n",
    "где $ \\vec{h}(\\mathbf{X}) \\in \\mathbb{R}^{m \\times 1} $ — вектор всех гипотез,\n",
    "$ \\vec{y} \\in \\mathbb{R}^{m \\times 1} $ — вектор всех выходных значений.\n",
    "\n",
    "$$ \\vec{h}(\\mathbf{X}) = \\mathbf{X} \\times \\mathbf{\\theta} $$\n",
    "\n",
    "где $ \\mathbf{X} \\in  \\mathbb{R}^{m \\times (n + 1)}, \\mathbf{\\theta} \\in \\mathbb{R}^{(n + 1) \\times 1} $ и результирующая матрица $ \\vec{h}(\\mathbf{X}) \\in \\mathbb{R}^{m \\times 1} $"
   ]
  },
  {
   "cell_type": "code",
   "execution_count": 1,
   "metadata": {},
   "outputs": [],
   "source": [
    "def hypothesis(X, theta):\n",
    "    return X @ theta"
   ]
  },
  {
   "cell_type": "code",
   "execution_count": 4,
   "metadata": {},
   "outputs": [],
   "source": [
    "def cost(X, y, theta):\n",
    "    m, n = X.shape\n",
    "    h = hypothesis(X,theta)\n",
    "    \n",
    "    J = 1/(2*m) * np.sum((h - y) ** 2)\n",
    "    return J"
   ]
  },
  {
   "cell_type": "code",
   "execution_count": 8,
   "metadata": {
    "jupyter": {
     "source_hidden": true
    }
   },
   "outputs": [
    {
     "name": "stdout",
     "output_type": "stream",
     "text": [
      "1. Cost function for one-feature dataset is 30.795\n",
      "2. Cost function for two-features dataset is 65279190347.902\n"
     ]
    }
   ],
   "source": [
    "theta = np.zeros((X1.shape[1], 1))\n",
    "J = cost(X1,Y1,theta)\n",
    "print (\"1. Cost function for one-feature dataset is %.3f\" %J)\n",
    "\n",
    "theta = np.zeros((X2.shape[1],1))\n",
    "J = cost(X2, Y2,theta)\n",
    "print (\"2. Cost function for two-features dataset is %.3f\" %J)"
   ]
  },
  {
   "cell_type": "markdown",
   "metadata": {},
   "source": [
    "## Градиентный спуск\n",
    "Градиентный спуск — один из простейший алгоритмов оптимизации параметров $ \\theta $. Его суть с любым алгоритмом заключается в постепенном уменьшении стоимостной функции J($ \\theta $) до нахождения глобального минимума, где и будут оптимальные параметры $ \\vec{\\theta} $.\n",
    "\n",
    "Каждый шаг спуска вычисляется следующим образом:\n",
    "$$ \\theta_j = \\theta_j - \\alpha \\frac{\\partial}{\\partial \\theta_j} J(\\vec{\\theta})$$\n",
    "Возьмем производную:\n",
    "$$ \\theta_j = \\theta_j - \\alpha \\frac{1}{m} \\sum \\limits _{i=1} ^{m} [(h(x^{(i)}) - y^{(i)})\\times x^{(i)}]$$\n",
    "\n",
    "Что можно записать в векторном виде как:\n",
    "$$ \\vec{\\theta} = \\vec{\\theta} - \\frac{\\alpha}{m} \\times \\vec{\\delta} $$"
   ]
  },
  {
   "cell_type": "code",
   "execution_count": 9,
   "metadata": {},
   "outputs": [],
   "source": [
    "def gradient_descent(X, y, theta, alpha, num_iters):\n",
    "    m, n = X.shape\n",
    "    J = 0\n",
    "    J_history = np.zeros((num_iters,1))\n",
    "    \n",
    "    for i in range(num_iters):\n",
    "        h = X @ theta\n",
    "        delta = 1/m * (h - y).T @ X\n",
    "        theta = theta - alpha * delta.T\n",
    "        \n",
    "        J = cost(X,y,theta)\n",
    "        J_history[i] = J\n",
    "    return (J, J_history,theta)"
   ]
  },
  {
   "cell_type": "code",
   "execution_count": null,
   "metadata": {},
   "outputs": [],
   "source": [
    "plt."
   ]
  },
  {
   "cell_type": "code",
   "execution_count": 37,
   "metadata": {},
   "outputs": [
    {
     "name": "stdout",
     "output_type": "stream",
     "text": [
      "Final J is 4.912. \n",
      "Optimal parameters are [[-0.22048396  0.81381451]]\n"
     ]
    },
    {
     "data": {
      "image/png": "[encoded data removed]",
      "text/plain": [
       "<Figure size 432x288 with 1 Axes>"
      ]
     },
     "metadata": {
      "needs_background": "light"
     },
     "output_type": "display_data"
    },
    {
     "name": "stdout",
     "output_type": "stream",
     "text": [
      "(96, 2) (2, 1)\n"
     ]
    },
    {
     "data": {
      "image/png": "[encoded data removed]",
      "text/plain": [
       "<Figure size 432x288 with 1 Axes>"
      ]
     },
     "metadata": {
      "needs_background": "light"
     },
     "output_type": "display_data"
    }
   ],
   "source": [
    "learning_rate = 0.001\n",
    "iterations = 400\n",
    "\n",
    "theta = np.zeros((X1.shape[1], 1))\n",
    "(J, history, theta) = gradient_descent(X1,Y1,theta,learning_rate,iterations)\n",
    "print(\"Final J is %.3f. \\nOptimal parameters are %s\" %(J, theta.T))\n",
    "\n",
    "utils.draw_J_history(history)\n",
    "utils.draw_hypothesis(X1,Y1,theta)"
   ]
  },
  {
   "cell_type": "code",
   "execution_count": null,
   "metadata": {},
   "outputs": [],
   "source": [
    "(J, history,thet) = gradient_descent(X,Y,theta,learning_rate,iterations)\n",
    "\n",
    "# data representation\n",
    "plt.plot(X[:,1], Y, \"bx\", label = \"Training example\")\n",
    "plt.plot(X[:,1], X @ thet,\"r-\", label = \"Hypothesis\")\n",
    "\n",
    "if X.shape[1] > 2:\n",
    "    plt.plot(X[:,2],Y, \"rx\", label = \"Feature 2\")\n",
    "    \n",
    "plt.legend()\n",
    "plt.show()\n",
    "\n",
    "# Error derivative by iterations\n",
    "plt.plot(np.arange(iterations), history)\n",
    "plt.xlabel(\"Iterations\")\n",
    "plt.ylabel(\"J\")\n",
    "plt.show()"
   ]
  },
  {
   "cell_type": "code",
   "execution_count": 8,
   "metadata": {},
   "outputs": [
    {
     "name": "stdout",
     "output_type": "stream",
     "text": [
      "Final J = 0.00\n"
     ]
    },
    {
     "name": "stderr",
     "output_type": "stream",
     "text": [
      "/usr/local/lib/python3.7/site-packages/ipykernel_launcher.py:8: RuntimeWarning: overflow encountered in matmul\n",
      "  \n",
      "/usr/local/lib/python3.7/site-packages/ipykernel_launcher.py:12: RuntimeWarning: overflow encountered in matmul\n",
      "  if sys.path[0] == '':\n",
      "/usr/local/lib/python3.7/site-packages/ipykernel_launcher.py:16: RuntimeWarning: invalid value encountered in subtract\n",
      "  app.launch_new_instance()\n"
     ]
    }
   ],
   "source": [
    "X = test_X2\n",
    "Y = test_Y2.reshape(46,1)\n",
    "theta = np.array([[0],[0],[0]])\n",
    "\n",
    "def gradient_descent2(X, y, theta, alpha, num_iters):\n",
    "    m = X.shape[0]\n",
    "    J = 0\n",
    "    J_history = np.zeros((num_iters,1))\n",
    "    \n",
    "    for i in range(num_iters):\n",
    "        h = X @ theta\n",
    "        delta = 1/m * (h - y).T @ X\n",
    "        \n",
    "#         print(\"J = %.2f on %d\" %(compute_cost(X,y,theta),i))\n",
    "#         print(delta.shape, h.shape,(y).shape, theta.shape)\n",
    "        theta = theta - alpha * delta.T\n",
    "        \n",
    "        J_history[i] = compute_cost(X,y,theta)\n",
    "    return (J, J_history,theta)\n",
    "\n",
    "print(\"Final J = %.2f\" %gradient_descent2(X,Y,theta,learning_rate,iterations)[0])"
   ]
  },
  {
   "cell_type": "markdown",
   "metadata": {},
   "source": [
    "## Уплотнение (Feature Scaling)"
   ]
  },
  {
   "cell_type": "code",
   "execution_count": 7,
   "metadata": {},
   "outputs": [
    {
     "data": {
      "text/plain": [
       "array([[  96.        ,  785.3905    ],\n",
       "       [ 785.3905    , 7858.84913173]])"
      ]
     },
     "execution_count": 7,
     "metadata": {},
     "output_type": "execute_result"
    }
   ],
   "source": []
  },
  {
   "cell_type": "markdown",
   "metadata": {},
   "source": [
    "## Нормализирующее уравнение"
   ]
  },
  {
   "cell_type": "code",
   "execution_count": 19,
   "metadata": {},
   "outputs": [],
   "source": [
    "def normal_equation(X,y):\n",
    "    theta = np.linalg.pinv(X.T @ X) @ X.T @ y\n",
    "    return theta"
   ]
  },
  {
   "cell_type": "code",
   "execution_count": 23,
   "metadata": {},
   "outputs": [
    {
     "name": "stdout",
     "output_type": "stream",
     "text": [
      "Via normal equation for one-featured dataset optimal parameters are: -4.212 and 1.214\n"
     ]
    }
   ],
   "source": [
    "[theta1, theta2] = normal_equation(X1,Y1)\n",
    "print(\"Via normal equation for one-featured dataset optimal parameters are: %.3f and %.3f\" %(theta1,theta2))"
   ]
  }
 ],
 "metadata": {
  "kernelspec": {
   "display_name": "Python 3",
   "language": "python",
   "name": "python3"
  },
  "language_info": {
   "codemirror_mode": {
    "name": "ipython",
    "version": 3
   },
   "file_extension": ".py",
   "mimetype": "text/x-python",
   "name": "python",
   "nbconvert_exporter": "python",
   "pygments_lexer": "ipython3",
   "version": "3.7.4"
  }
 },
 "nbformat": 4,
 "nbformat_minor": 4
}
