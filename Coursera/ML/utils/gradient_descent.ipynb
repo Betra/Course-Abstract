{
 "cells": [
  {
   "cell_type": "code",
   "execution_count": 104,
   "metadata": {},
   "outputs": [],
   "source": [
    "import numpy as np\n",
    "import pandas as pd\n",
    "import matplotlib.pyplot as plt"
   ]
  },
  {
   "cell_type": "markdown",
   "metadata": {},
   "source": [
    "# Разбираем градиентный спуск\n",
    "\n",
    "## Определение\n",
    "Обычно, с помощью градиентного спуска мы хотим добиться минимизации стоимостной функции $J$ путем изменения параметров $\\Theta$. Чтобы определить в каком направлении каждый параметр $\\theta_j$ должен изменяться нам понадобиться первая производная $\\frac{\\partial}{\\partial \\Theta} J(\\Theta)$:\n",
    "$$ \\Theta = \\Theta - \\alpha \\frac{\\partial}{\\partial \\Theta} J(\\Theta), \\Theta \\in \\mathbb{R}^{1 \\times n}$$\n",
    "\n",
    "Искусственно ограничим эту операцию до `max_iterations` раз, чтобы избежать слишком долгого обучения некоторых моделей.\n",
    "\n",
    "## Регуляризация\n",
    "Чтобы избежать переобучения, сделаем возможность передавать параметр регуляризации $\\lambda$. Таким образом мы уменьшим влияние каждого параметра $\\theta_j$ на итоговую стоимость $J$, уменьшая коэффициент полиномиальности функции. Так как регуляризация применяется к стоимостной функции $J$, ее реализацию стоит учитывать при создании функции.\n",
    "\n",
    "## Масштабирование\n",
    "Зато Feature Scaling удобно реализовать внутри градиента. Он должен приводить все $X_{i,j}$ к определенной наиболее удобной области $ 0 \\geq \\theta_j \\geq 1$: это важно, потому что если параметр 1 отличается от параметра 2 в несколько порядков, то и на конечную стоимость они будут влиять слишком различно, приводя все параметры к одним порядкам мы выравниваем их важность в оптимизации и в обучении. Мы хотим выделить два основных момента:\n",
    "  1) Получение $\\mu$ — средних значений каждой фичи — и нормализация $ \\sum \\limits _{i=1} ^{n} X_i - \\overline{X_i}$\n",
    "  \n",
    "  2) Получение $\\sigma$ — среднеквадратичного отклонения каждой фичи и нормализация $ \\sum \\limits _{i=1} ^{n} X_i /\\bar{X_i}$"
   ]
  },
  {
   "cell_type": "code",
   "execution_count": 105,
   "metadata": {},
   "outputs": [],
   "source": [
    "def feature_scaling(X):\n",
    "    X_norm = X\n",
    "    \n",
    "    mu = X_norm.mean(0)\n",
    "    sigma = X_norm.std(0)\n",
    "    \n",
    "    X_norm = (X_norm - mu) / sigma\n",
    "    \n",
    "    return X_norm, mu, sigma"
   ]
  },
  {
   "cell_type": "code",
   "execution_count": 106,
   "metadata": {},
   "outputs": [],
   "source": [
    "def optimize_gradient(X, y, init_theta, \n",
    "                      cost_func,\n",
    "                      learning_rate, \n",
    "                      max_iterations = 1000,\n",
    "                      regularization = None,\n",
    "                      scaling=False):\n",
    "    J = 0\n",
    "    J_history = []\n",
    "    theta = init_theta\n",
    "    theta_history = np.zeros((max_iterations,theta.shape[0]))\n",
    "    \n",
    "    if scaling == True:\n",
    "        X_local = feature_scaling(X)\n",
    "        X_local = np.concatenate((np.ones((X1.shape[0],1)),X),1)\n",
    "    else:\n",
    "        X_local = np.concatenate((np.ones((X1.shape[0],1)),X),1)\n",
    "        \n",
    "    for i in range(max_iterations):\n",
    "        J, dJ = cost_func(X_local, y, theta, regularization = regularization)\n",
    "        J_history.append(J)\n",
    "        \n",
    "        theta = theta - learning_rate * dJ\n",
    "        theta_history[i,:] = theta.reshape(init_theta.shape[0])\n",
    "    \n",
    "    return (theta, J, J_history, theta_history)"
   ]
  },
  {
   "cell_type": "code",
   "execution_count": 107,
   "metadata": {},
   "outputs": [
    {
     "name": "stdout",
     "output_type": "stream",
     "text": [
      "/Users/love/Documents/ML/machine-learning-ex2/ex2\n"
     ]
    },
    {
     "name": "stderr",
     "output_type": "stream",
     "text": [
      "/usr/local/lib/python3.7/site-packages/ipykernel_launcher.py:5: RuntimeWarning: overflow encountered in exp\n",
      "  \"\"\"\n",
      "/usr/local/lib/python3.7/site-packages/ipykernel_launcher.py:6: RuntimeWarning: divide by zero encountered in log\n",
      "  \n",
      "/usr/local/lib/python3.7/site-packages/ipykernel_launcher.py:6: RuntimeWarning: invalid value encountered in multiply\n",
      "  \n"
     ]
    },
    {
     "data": {
      "image/png": "[encoded data removed]",
      "text/plain": [
       "<Figure size 432x288 with 1 Axes>"
      ]
     },
     "metadata": {
      "needs_background": "light"
     },
     "output_type": "display_data"
    }
   ],
   "source": [
    "%cd ~/Documents/ML/machine-learning-ex2/ex2/\n",
    "\n",
    "def cost(X,y,theta, regularization = None):\n",
    "    m = X.shape[0]\n",
    "    h =  1/(1 + np.exp(-1 * (X @ theta)))\n",
    "    errs = -y * np.log(h) - (1 - y) * np.log(1 - h)\n",
    " \n",
    "    if regularization != None:\n",
    "        J_reg = regularization / (2*m) * np.sum(theta[1:]**2)\n",
    "        theta_shadow = theta\n",
    "        theta_shadow[0] = 0\n",
    "        print(theta_shadow)\n",
    "        d_reg = (regularization / m) * theta_shadow\n",
    "    else:\n",
    "        J_reg = 0\n",
    "        d_reg = 0\n",
    "    \n",
    "    J = 1 / m * np.sum(errs) + J_reg\n",
    "    dtheta = (1 / m * (h - y).T @ X) + d_reg\n",
    "    \n",
    "    return J, dtheta.T\n",
    "\n",
    "\n",
    "def draw_J_history(history):\n",
    "    iterations = np.arange(len(history))\n",
    "\n",
    "    plt.plot(iterations,history)\n",
    "    plt.xlabel(\"Iterations\")\n",
    "    plt.ylabel(\"J\")\n",
    "    plt.title(label=\"Yo\")\n",
    "    plt.show()\n",
    "    return\n",
    "\n",
    "\n",
    "\n",
    "# Two-feature dataset. M=99 N=2\n",
    "dataset_2X = pd.read_csv(\"ex2data1.txt\")\n",
    "\n",
    "X1 = dataset_2X.to_numpy()[:,0:2].reshape(99,2)\n",
    "Y1 = dataset_2X.to_numpy()[:,2].reshape(99,1)\n",
    "theta = np.array([[-20],[-20],[-20]])\n",
    "\n",
    "theta, J, history, thet = optimize_gradient(X1,Y1,theta, cost, 0.001,1000, scaling=True)\n",
    "\n",
    "draw_J_history(history)"
   ]
  },
  {
   "cell_type": "code",
   "execution_count": null,
   "metadata": {},
   "outputs": [],
   "source": []
  },
  {
   "cell_type": "code",
   "execution_count": null,
   "metadata": {},
   "outputs": [],
   "source": []
  }
 ],
 "metadata": {
  "kernelspec": {
   "display_name": "Python 3",
   "language": "python",
   "name": "python3"
  },
  "language_info": {
   "codemirror_mode": {
    "name": "ipython",
    "version": 3
   },
   "file_extension": ".py",
   "mimetype": "text/x-python",
   "name": "python",
   "nbconvert_exporter": "python",
   "pygments_lexer": "ipython3",
   "version": "3.7.4"
  }
 },
 "nbformat": 4,
 "nbformat_minor": 4
}
